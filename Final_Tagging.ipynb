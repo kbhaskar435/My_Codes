{
 "cells": [
  {
   "cell_type": "code",
   "execution_count": 53,
   "metadata": {},
   "outputs": [],
   "source": [
    "### Necessary Libraries\n",
    "# from msilib.schema import File\n",
    "import pandas as pd, unicodedata\n",
    "import string as strlab\n",
    "import random, itertools\n",
    "import os    \n",
    "from csv import DictWriter\n",
    "from datetime import date\n",
    "import psycopg2\n",
    "import numpy as np\n",
    "from sqlalchemy import create_engine\n",
    "import re \n",
    "import sys\n",
    "%config IPCompleter.use_jedi=False\n",
    "import datetime"
   ]
  },
  {
   "cell_type": "code",
   "execution_count": 54,
   "metadata": {},
   "outputs": [],
   "source": [
    "def get_db_creds(dbname='pricedbprod',user='nextorbitprod',password='5ASyeJGXpjFFRA8k6xkj'):\n",
    "    # Connect to the database\n",
    "    host = \"pricedbprod.c6efngmeow34.ap-south-1.rds.amazonaws.com\"\n",
    "    port = \"5432\"\n",
    "    engine = create_engine(f\"postgresql://{user}:{password}@{host}:{port}/{dbname}\")\n",
    "    conn = psycopg2.connect(database=dbname, user=user, password=password, host=host, port=port)\n",
    "    return conn\n",
    "\n",
    "def get_tabledata(schema,tablename,conn):\n",
    "    query = f'SELECT * FROM {schema}.\"{tablename}\"'\n",
    "    table = pd.read_sql_query(query,conn)\n",
    "    return table\n"
   ]
  },
  {
   "cell_type": "code",
   "execution_count": 55,
   "metadata": {},
   "outputs": [],
   "source": [
    "conn = get_db_creds()\n",
    "product_master = get_tabledata(schema='consolidated',tablename='product_master_20220406',conn=conn)\n"
   ]
  },
  {
   "cell_type": "code",
   "execution_count": 56,
   "metadata": {},
   "outputs": [],
   "source": [
    "updates_data = pd.read_excel(\"C:\\\\Users\\\\Bhaskar\\\\OneDrive\\\\Desktop\\\\220411 Tag Revised v2.xlsx\",sheet_name='Sheet1')"
   ]
  },
  {
   "cell_type": "code",
   "execution_count": 57,
   "metadata": {},
   "outputs": [],
   "source": [
    "product_master=pd.merge(product_master,updates_data,left_on=['product_name_cleaned','brand_name'],right_on=['Product Name Cleaned','Brand Name'],how='left')\n",
    "product_master.drop(columns=['system_display','Product Name Cleaned','major_category','minor_category','Brand Name','display_name'],inplace=True)\n",
    "product_master.rename(columns={'Minor Category v2':'minor_category','Major Category v2':'major_category','Meal Period':'meal_period','Display Name':'display_name','System Display':'system_display'},inplace=True)\n"
   ]
  },
  {
   "cell_type": "code",
   "execution_count": 58,
   "metadata": {},
   "outputs": [],
   "source": [
    "dbname='pricedbprod'\n",
    "user='nextorbitprod'\n",
    "password='5ASyeJGXpjFFRA8k6xkj'\n",
    "port=\"5432\"\n",
    "host = \"pricedbprod.c6efngmeow34.ap-south-1.rds.amazonaws.com\"\n",
    "\n",
    "engine = create_engine(f\"postgresql://{user}:{password}@{host}:{port}/{dbname}\")\n",
    "\n"
   ]
  },
  {
   "cell_type": "code",
   "execution_count": 60,
   "metadata": {},
   "outputs": [],
   "source": [
    "product_master.to_sql('product_master_20220422',con=engine,schema='consolidated',if_exists='append',index=False) "
   ]
  }
 ],
 "metadata": {
  "interpreter": {
   "hash": "b577d89103acd817a8be97db090b23cbc01b068246437e3c05111b099a6a1648"
  },
  "kernelspec": {
   "display_name": "Python 3.9.8 64-bit",
   "language": "python",
   "name": "python3"
  },
  "language_info": {
   "codemirror_mode": {
    "name": "ipython",
    "version": 3
   },
   "file_extension": ".py",
   "mimetype": "text/x-python",
   "name": "python",
   "nbconvert_exporter": "python",
   "pygments_lexer": "ipython3",
   "version": "3.9.8"
  },
  "orig_nbformat": 4
 },
 "nbformat": 4,
 "nbformat_minor": 2
}
